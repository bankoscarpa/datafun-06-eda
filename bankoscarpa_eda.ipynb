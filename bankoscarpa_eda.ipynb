{
 "cells": [
  {
   "cell_type": "markdown",
   "id": "cb974091",
   "metadata": {},
   "source": [
    "# Frank Scarpa Notebook - EDA Project\n",
    "\n",
    "- Author: [Frank Scarpa](https://github.com/bankoscarpa)\n",
    "- Repository: [datafun-06-eda](https://github.com/bankoscarpa/datafun-06-eda)"
   ]
  },
  {
   "cell_type": "code",
   "execution_count": null,
   "id": "d5c7b557",
   "metadata": {},
   "outputs": [],
   "source": [
    "# Import libraries\n",
    "import pandas as pd\n",
    "import numpy as np\n",
    "import seaborn as sns\n",
    "import matplotlib.pyplot as plt\n",
    "\n",
    "# Load diamonds dataset from seaborn\n",
    "diamonds = sns.load_dataset('diamonds')\n",
    "\n",
    "# Quick look\n",
    "diamonds.head()"
   ]
  },
  {
   "cell_type": "markdown",
   "id": "2ca59ff2",
   "metadata": {},
   "source": [
    "Univariate Analysis"
   ]
  },
  {
   "cell_type": "code",
   "execution_count": null,
   "id": "652c5706",
   "metadata": {},
   "outputs": [],
   "source": [
    "# Price distribution\n",
    "sns.histplot(diamonds['price'], bins=50, kde=True)\n",
    "plt.title(\"Distribution of Diamond Prices\")\n",
    "plt.show()\n",
    "\n",
    "# Count of diamond cuts\n",
    "sns.countplot(x='cut', data=diamonds)\n",
    "plt.title(\"Count of Diamonds by Cut\")\n",
    "plt.show()"
   ]
  },
  {
   "cell_type": "markdown",
   "id": "eb25ba4d",
   "metadata": {},
   "source": [
    "**Bivariate Analysis**\n"
   ]
  },
  {
   "cell_type": "code",
   "execution_count": null,
   "id": "eb5f77bf",
   "metadata": {},
   "outputs": [],
   "source": [
    "# Carat vs Price\n",
    "sns.scatterplot(x='carat', y='price', data=diamonds, alpha=0.5)\n",
    "plt.title(\"Diamond Price vs Carat Weight\")\n",
    "plt.show()\n",
    "\n",
    "# Boxplot of Price by Cut\n",
    "sns.boxplot(x='cut', y='price', data=diamonds)\n",
    "plt.title(\"Diamond Price Distribution by Cut\")\n",
    "plt.show()\n"
   ]
  },
  {
   "cell_type": "markdown",
   "id": "f0badd26",
   "metadata": {},
   "source": [
    "**Correlation Analysis**\n",
    "\n",
    "How numeric variables relate to each other"
   ]
  },
  {
   "cell_type": "code",
   "execution_count": null,
   "id": "de0c2571",
   "metadata": {},
   "outputs": [],
   "source": [
    "corr = diamonds.corr(numeric_only=True)\n",
    "sns.heatmap(corr, annot=True, cmap=\"coolwarm\")\n",
    "plt.title(\"Correlation Heatmap of Numeric Features\")\n",
    "plt.show()\n"
   ]
  },
  {
   "cell_type": "markdown",
   "id": "f730d3e0",
   "metadata": {},
   "source": [
    "**Multivariate Analysis**\n",
    "\n",
    "This plot examines how both cut and color together affect diamond pricing."
   ]
  },
  {
   "cell_type": "code",
   "execution_count": null,
   "id": "c0fe05c0",
   "metadata": {},
   "outputs": [],
   "source": [
    "sns.boxplot(x='color', y='price', hue='cut', data=diamonds)\n",
    "plt.title(\"Diamond Price by Color and Cut\")\n",
    "plt.show()"
   ]
  }
 ],
 "metadata": {
  "kernelspec": {
   "display_name": ".venv",
   "language": "python",
   "name": "python3"
  },
  "language_info": {
   "name": "python",
   "version": "3.13.7"
  }
 },
 "nbformat": 4,
 "nbformat_minor": 5
}
